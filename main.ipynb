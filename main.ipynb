{
 "cells": [
  {
   "cell_type": "markdown",
   "metadata": {},
   "source": [
    "# Import Library"
   ]
  },
  {
   "cell_type": "code",
   "execution_count": 1,
   "metadata": {},
   "outputs": [],
   "source": [
    "import pandas as pd"
   ]
  },
  {
   "cell_type": "code",
   "execution_count": 2,
   "metadata": {},
   "outputs": [],
   "source": [
    "from bokeh.plotting import figure\n",
    "from bokeh.io import curdoc\n",
    "from bokeh.models import ColumnDataSource, HoverTool, Select\n",
    "from bokeh.models.widgets import Tabs, Panel\n",
    "from bokeh.layouts import row, widgetbox"
   ]
  },
  {
   "cell_type": "markdown",
   "metadata": {},
   "source": [
    "# Data Preparation"
   ]
  },
  {
   "cell_type": "code",
   "execution_count": 3,
   "metadata": {},
   "outputs": [],
   "source": [
    "data = pd.read_csv(\"Covid19_dataset.csv\",parse_dates=['date'])"
   ]
  },
  {
   "cell_type": "code",
   "execution_count": 4,
   "metadata": {},
   "outputs": [
    {
     "name": "stdout",
     "output_type": "stream",
     "text": [
      "<class 'pandas.core.frame.DataFrame'>\n",
      "RangeIndex: 149484 entries, 0 to 149483\n",
      "Data columns (total 67 columns):\n",
      " #   Column                                      Non-Null Count   Dtype         \n",
      "---  ------                                      --------------   -----         \n",
      " 0   iso_code                                    149484 non-null  object        \n",
      " 1   continent                                   140464 non-null  object        \n",
      " 2   location                                    149484 non-null  object        \n",
      " 3   date                                        149484 non-null  datetime64[ns]\n",
      " 4   total_cases                                 146874 non-null  float64       \n",
      " 5   new_cases                                   146868 non-null  float64       \n",
      " 6   new_cases_smoothed                          145723 non-null  float64       \n",
      " 7   total_deaths                                129842 non-null  float64       \n",
      " 8   new_deaths                                  130037 non-null  float64       \n",
      " 9   new_deaths_smoothed                         145723 non-null  float64       \n",
      " 10  total_cases_per_million                     146188 non-null  float64       \n",
      " 11  new_cases_per_million                       146182 non-null  float64       \n",
      " 12  new_cases_smoothed_per_million              145042 non-null  float64       \n",
      " 13  total_deaths_per_million                    129169 non-null  float64       \n",
      " 14  new_deaths_per_million                      129364 non-null  float64       \n",
      " 15  new_deaths_smoothed_per_million             145042 non-null  float64       \n",
      " 16  reproduction_rate                           112380 non-null  float64       \n",
      " 17  icu_patients                                17040 non-null   float64       \n",
      " 18  icu_patients_per_million                    17040 non-null   float64       \n",
      " 19  hosp_patients                               20161 non-null   float64       \n",
      " 20  hosp_patients_per_million                   20161 non-null   float64       \n",
      " 21  weekly_icu_admissions                       3873 non-null    float64       \n",
      " 22  weekly_icu_admissions_per_million           3873 non-null    float64       \n",
      " 23  weekly_hosp_admissions                      7884 non-null    float64       \n",
      " 24  weekly_hosp_admissions_per_million          7884 non-null    float64       \n",
      " 25  new_tests                                   59568 non-null   float64       \n",
      " 26  total_tests                                 59741 non-null   float64       \n",
      " 27  total_tests_per_thousand                    59741 non-null   float64       \n",
      " 28  new_tests_per_thousand                      59568 non-null   float64       \n",
      " 29  new_tests_smoothed                          72615 non-null   float64       \n",
      " 30  new_tests_smoothed_per_thousand             71929 non-null   float64       \n",
      " 31  positive_rate                               67786 non-null   float64       \n",
      " 32  tests_per_case                              67124 non-null   float64       \n",
      " 33  tests_units                                 74060 non-null   object        \n",
      " 34  total_vaccinations                          37621 non-null   float64       \n",
      " 35  people_vaccinated                           36159 non-null   float64       \n",
      " 36  people_fully_vaccinated                     33363 non-null   float64       \n",
      " 37  total_boosters                              10950 non-null   float64       \n",
      " 38  new_vaccinations                            31155 non-null   float64       \n",
      " 39  new_vaccinations_smoothed                   68690 non-null   float64       \n",
      " 40  total_vaccinations_per_hundred              37621 non-null   float64       \n",
      " 41  people_vaccinated_per_hundred               36159 non-null   float64       \n",
      " 42  people_fully_vaccinated_per_hundred         33363 non-null   float64       \n",
      " 43  total_boosters_per_hundred                  10950 non-null   float64       \n",
      " 44  new_vaccinations_smoothed_per_million       68690 non-null   float64       \n",
      " 45  new_people_vaccinated_smoothed              67552 non-null   float64       \n",
      " 46  new_people_vaccinated_smoothed_per_hundred  67552 non-null   float64       \n",
      " 47  stringency_index                            117290 non-null  float64       \n",
      " 48  population                                  148481 non-null  float64       \n",
      " 49  population_density                          133074 non-null  float64       \n",
      " 50  median_age                                  124195 non-null  float64       \n",
      " 51  aged_65_older                               122845 non-null  float64       \n",
      " 52  aged_70_older                               123528 non-null  float64       \n",
      " 53  gdp_per_capita                              124586 non-null  float64       \n",
      " 54  extreme_poverty                             82258 non-null   float64       \n",
      " 55  cardiovasc_death_rate                       123214 non-null  float64       \n",
      " 56  diabetes_prevalence                         129525 non-null  float64       \n",
      " 57  female_smokers                              95441 non-null   float64       \n",
      " 58  male_smokers                                94065 non-null   float64       \n",
      " 59  handwashing_facilities                      61703 non-null   float64       \n",
      " 60  hospital_beds_per_thousand                  111328 non-null  float64       \n",
      " 61  life_expectancy                             139508 non-null  float64       \n",
      " 62  human_development_index                     122689 non-null  float64       \n",
      " 63  excess_mortality_cumulative_absolute        5125 non-null    float64       \n",
      " 64  excess_mortality_cumulative                 5125 non-null    float64       \n",
      " 65  excess_mortality                            5125 non-null    float64       \n",
      " 66  excess_mortality_cumulative_per_million     5125 non-null    float64       \n",
      "dtypes: datetime64[ns](1), float64(62), object(4)\n",
      "memory usage: 76.4+ MB\n"
     ]
    }
   ],
   "source": [
    "data.info()"
   ]
  },
  {
   "cell_type": "code",
   "execution_count": 5,
   "metadata": {},
   "outputs": [
    {
     "data": {
      "text/html": [
       "<div>\n",
       "<style scoped>\n",
       "    .dataframe tbody tr th:only-of-type {\n",
       "        vertical-align: middle;\n",
       "    }\n",
       "\n",
       "    .dataframe tbody tr th {\n",
       "        vertical-align: top;\n",
       "    }\n",
       "\n",
       "    .dataframe thead th {\n",
       "        text-align: right;\n",
       "    }\n",
       "</style>\n",
       "<table border=\"1\" class=\"dataframe\">\n",
       "  <thead>\n",
       "    <tr style=\"text-align: right;\">\n",
       "      <th></th>\n",
       "      <th>continent</th>\n",
       "      <th>location</th>\n",
       "      <th>date</th>\n",
       "      <th>total_cases</th>\n",
       "      <th>new_cases</th>\n",
       "      <th>total_deaths</th>\n",
       "      <th>new_deaths</th>\n",
       "    </tr>\n",
       "  </thead>\n",
       "  <tbody>\n",
       "    <tr>\n",
       "      <th>0</th>\n",
       "      <td>Asia</td>\n",
       "      <td>Afghanistan</td>\n",
       "      <td>2020-02-24</td>\n",
       "      <td>5.0</td>\n",
       "      <td>5.0</td>\n",
       "      <td>NaN</td>\n",
       "      <td>NaN</td>\n",
       "    </tr>\n",
       "    <tr>\n",
       "      <th>1</th>\n",
       "      <td>Asia</td>\n",
       "      <td>Afghanistan</td>\n",
       "      <td>2020-02-25</td>\n",
       "      <td>5.0</td>\n",
       "      <td>0.0</td>\n",
       "      <td>NaN</td>\n",
       "      <td>NaN</td>\n",
       "    </tr>\n",
       "    <tr>\n",
       "      <th>2</th>\n",
       "      <td>Asia</td>\n",
       "      <td>Afghanistan</td>\n",
       "      <td>2020-02-26</td>\n",
       "      <td>5.0</td>\n",
       "      <td>0.0</td>\n",
       "      <td>NaN</td>\n",
       "      <td>NaN</td>\n",
       "    </tr>\n",
       "    <tr>\n",
       "      <th>3</th>\n",
       "      <td>Asia</td>\n",
       "      <td>Afghanistan</td>\n",
       "      <td>2020-02-27</td>\n",
       "      <td>5.0</td>\n",
       "      <td>0.0</td>\n",
       "      <td>NaN</td>\n",
       "      <td>NaN</td>\n",
       "    </tr>\n",
       "    <tr>\n",
       "      <th>4</th>\n",
       "      <td>Asia</td>\n",
       "      <td>Afghanistan</td>\n",
       "      <td>2020-02-28</td>\n",
       "      <td>5.0</td>\n",
       "      <td>0.0</td>\n",
       "      <td>NaN</td>\n",
       "      <td>NaN</td>\n",
       "    </tr>\n",
       "    <tr>\n",
       "      <th>...</th>\n",
       "      <td>...</td>\n",
       "      <td>...</td>\n",
       "      <td>...</td>\n",
       "      <td>...</td>\n",
       "      <td>...</td>\n",
       "      <td>...</td>\n",
       "      <td>...</td>\n",
       "    </tr>\n",
       "    <tr>\n",
       "      <th>149479</th>\n",
       "      <td>Africa</td>\n",
       "      <td>Zimbabwe</td>\n",
       "      <td>2021-12-19</td>\n",
       "      <td>191673.0</td>\n",
       "      <td>2106.0</td>\n",
       "      <td>4782.0</td>\n",
       "      <td>3.0</td>\n",
       "    </tr>\n",
       "    <tr>\n",
       "      <th>149480</th>\n",
       "      <td>Africa</td>\n",
       "      <td>Zimbabwe</td>\n",
       "      <td>2021-12-20</td>\n",
       "      <td>195079.0</td>\n",
       "      <td>3406.0</td>\n",
       "      <td>4805.0</td>\n",
       "      <td>23.0</td>\n",
       "    </tr>\n",
       "    <tr>\n",
       "      <th>149481</th>\n",
       "      <td>Africa</td>\n",
       "      <td>Zimbabwe</td>\n",
       "      <td>2021-12-21</td>\n",
       "      <td>197768.0</td>\n",
       "      <td>2689.0</td>\n",
       "      <td>4819.0</td>\n",
       "      <td>14.0</td>\n",
       "    </tr>\n",
       "    <tr>\n",
       "      <th>149482</th>\n",
       "      <td>Africa</td>\n",
       "      <td>Zimbabwe</td>\n",
       "      <td>2021-12-22</td>\n",
       "      <td>199404.0</td>\n",
       "      <td>1636.0</td>\n",
       "      <td>4828.0</td>\n",
       "      <td>9.0</td>\n",
       "    </tr>\n",
       "    <tr>\n",
       "      <th>149483</th>\n",
       "      <td>Africa</td>\n",
       "      <td>Zimbabwe</td>\n",
       "      <td>2021-12-23</td>\n",
       "      <td>201344.0</td>\n",
       "      <td>1940.0</td>\n",
       "      <td>4855.0</td>\n",
       "      <td>27.0</td>\n",
       "    </tr>\n",
       "  </tbody>\n",
       "</table>\n",
       "<p>149484 rows × 7 columns</p>\n",
       "</div>"
      ],
      "text/plain": [
       "       continent     location       date  total_cases  new_cases  \\\n",
       "0           Asia  Afghanistan 2020-02-24          5.0        5.0   \n",
       "1           Asia  Afghanistan 2020-02-25          5.0        0.0   \n",
       "2           Asia  Afghanistan 2020-02-26          5.0        0.0   \n",
       "3           Asia  Afghanistan 2020-02-27          5.0        0.0   \n",
       "4           Asia  Afghanistan 2020-02-28          5.0        0.0   \n",
       "...          ...          ...        ...          ...        ...   \n",
       "149479    Africa     Zimbabwe 2021-12-19     191673.0     2106.0   \n",
       "149480    Africa     Zimbabwe 2021-12-20     195079.0     3406.0   \n",
       "149481    Africa     Zimbabwe 2021-12-21     197768.0     2689.0   \n",
       "149482    Africa     Zimbabwe 2021-12-22     199404.0     1636.0   \n",
       "149483    Africa     Zimbabwe 2021-12-23     201344.0     1940.0   \n",
       "\n",
       "        total_deaths  new_deaths  \n",
       "0                NaN         NaN  \n",
       "1                NaN         NaN  \n",
       "2                NaN         NaN  \n",
       "3                NaN         NaN  \n",
       "4                NaN         NaN  \n",
       "...              ...         ...  \n",
       "149479        4782.0         3.0  \n",
       "149480        4805.0        23.0  \n",
       "149481        4819.0        14.0  \n",
       "149482        4828.0         9.0  \n",
       "149483        4855.0        27.0  \n",
       "\n",
       "[149484 rows x 7 columns]"
      ]
     },
     "execution_count": 5,
     "metadata": {},
     "output_type": "execute_result"
    }
   ],
   "source": [
    "df = data[['continent','location','date','total_cases','new_cases','total_deaths','new_deaths']]\n",
    "df"
   ]
  },
  {
   "cell_type": "code",
   "execution_count": 6,
   "metadata": {},
   "outputs": [
    {
     "data": {
      "text/plain": [
       "continent        9020\n",
       "location            0\n",
       "date                0\n",
       "total_cases      2610\n",
       "new_cases        2616\n",
       "total_deaths    19642\n",
       "new_deaths      19447\n",
       "dtype: int64"
      ]
     },
     "execution_count": 6,
     "metadata": {},
     "output_type": "execute_result"
    }
   ],
   "source": [
    "df.isnull().sum()"
   ]
  },
  {
   "cell_type": "code",
   "execution_count": 7,
   "metadata": {},
   "outputs": [
    {
     "name": "stderr",
     "output_type": "stream",
     "text": [
      "C:\\ProgramData\\Anaconda3\\lib\\site-packages\\pandas\\core\\generic.py:6245: SettingWithCopyWarning: \n",
      "A value is trying to be set on a copy of a slice from a DataFrame\n",
      "\n",
      "See the caveats in the documentation: https://pandas.pydata.org/pandas-docs/stable/user_guide/indexing.html#returning-a-view-versus-a-copy\n",
      "  self._update_inplace(new_data)\n"
     ]
    }
   ],
   "source": [
    "df['total_cases'].fillna(0,inplace=True)\n",
    "df['new_cases'].fillna(0,inplace=True)\n",
    "df['total_deaths'].fillna(0,inplace=True)\n",
    "df['new_deaths'].fillna(0,inplace=True)"
   ]
  },
  {
   "cell_type": "code",
   "execution_count": 8,
   "metadata": {},
   "outputs": [
    {
     "data": {
      "text/plain": [
       "continent       9020\n",
       "location           0\n",
       "date               0\n",
       "total_cases        0\n",
       "new_cases          0\n",
       "total_deaths       0\n",
       "new_deaths         0\n",
       "dtype: int64"
      ]
     },
     "execution_count": 8,
     "metadata": {},
     "output_type": "execute_result"
    }
   ],
   "source": [
    "df.isnull().sum()"
   ]
  },
  {
   "cell_type": "code",
   "execution_count": 9,
   "metadata": {},
   "outputs": [],
   "source": [
    "#Mengambil data negara Asia\n",
    "df_asia = df[df['continent'] == 'Asia']"
   ]
  },
  {
   "cell_type": "code",
   "execution_count": 10,
   "metadata": {},
   "outputs": [
    {
     "data": {
      "text/plain": [
       "array(['Afghanistan', 'Armenia', 'Azerbaijan', 'Bahrain', 'Bangladesh',\n",
       "       'Bhutan', 'Brunei', 'Cambodia', 'China', 'Georgia', 'Hong Kong',\n",
       "       'India', 'Indonesia', 'Iran', 'Iraq', 'Israel', 'Japan', 'Jordan',\n",
       "       'Kazakhstan', 'Kuwait', 'Kyrgyzstan', 'Laos', 'Lebanon', 'Macao',\n",
       "       'Malaysia', 'Maldives', 'Mongolia', 'Myanmar', 'Nepal',\n",
       "       'Northern Cyprus', 'Oman', 'Pakistan', 'Palestine', 'Philippines',\n",
       "       'Qatar', 'Saudi Arabia', 'Singapore', 'South Korea', 'Sri Lanka',\n",
       "       'Syria', 'Taiwan', 'Tajikistan', 'Thailand', 'Timor', 'Turkey',\n",
       "       'Turkmenistan', 'United Arab Emirates', 'Uzbekistan', 'Vietnam',\n",
       "       'Yemen'], dtype=object)"
      ]
     },
     "execution_count": 10,
     "metadata": {},
     "output_type": "execute_result"
    }
   ],
   "source": [
    "df_asia['location'].unique()"
   ]
  },
  {
   "cell_type": "code",
   "execution_count": 11,
   "metadata": {},
   "outputs": [
    {
     "name": "stderr",
     "output_type": "stream",
     "text": [
      "C:\\ProgramData\\Anaconda3\\lib\\site-packages\\pandas\\core\\frame.py:3990: SettingWithCopyWarning: \n",
      "A value is trying to be set on a copy of a slice from a DataFrame\n",
      "\n",
      "See the caveats in the documentation: https://pandas.pydata.org/pandas-docs/stable/user_guide/indexing.html#returning-a-view-versus-a-copy\n",
      "  return super().drop(\n"
     ]
    }
   ],
   "source": [
    "df_asia.drop(columns='continent',inplace=True)"
   ]
  },
  {
   "cell_type": "code",
   "execution_count": 12,
   "metadata": {},
   "outputs": [],
   "source": [
    "df_indo = df_asia[df_asia['location'] == 'Indonesia']"
   ]
  },
  {
   "cell_type": "code",
   "execution_count": 14,
   "metadata": {
    "scrolled": false
   },
   "outputs": [
    {
     "data": {
      "text/html": [
       "<div>\n",
       "<style scoped>\n",
       "    .dataframe tbody tr th:only-of-type {\n",
       "        vertical-align: middle;\n",
       "    }\n",
       "\n",
       "    .dataframe tbody tr th {\n",
       "        vertical-align: top;\n",
       "    }\n",
       "\n",
       "    .dataframe thead th {\n",
       "        text-align: right;\n",
       "    }\n",
       "</style>\n",
       "<table border=\"1\" class=\"dataframe\">\n",
       "  <thead>\n",
       "    <tr style=\"text-align: right;\">\n",
       "      <th></th>\n",
       "      <th>location</th>\n",
       "      <th>date</th>\n",
       "      <th>total_cases</th>\n",
       "      <th>new_cases</th>\n",
       "      <th>total_deaths</th>\n",
       "      <th>new_deaths</th>\n",
       "    </tr>\n",
       "  </thead>\n",
       "  <tbody>\n",
       "    <tr>\n",
       "      <th>63427</th>\n",
       "      <td>Indonesia</td>\n",
       "      <td>2020-03-02</td>\n",
       "      <td>2.0</td>\n",
       "      <td>2.0</td>\n",
       "      <td>0.0</td>\n",
       "      <td>0.0</td>\n",
       "    </tr>\n",
       "    <tr>\n",
       "      <th>63428</th>\n",
       "      <td>Indonesia</td>\n",
       "      <td>2020-03-03</td>\n",
       "      <td>2.0</td>\n",
       "      <td>0.0</td>\n",
       "      <td>0.0</td>\n",
       "      <td>0.0</td>\n",
       "    </tr>\n",
       "    <tr>\n",
       "      <th>63429</th>\n",
       "      <td>Indonesia</td>\n",
       "      <td>2020-03-04</td>\n",
       "      <td>2.0</td>\n",
       "      <td>0.0</td>\n",
       "      <td>0.0</td>\n",
       "      <td>0.0</td>\n",
       "    </tr>\n",
       "    <tr>\n",
       "      <th>63430</th>\n",
       "      <td>Indonesia</td>\n",
       "      <td>2020-03-05</td>\n",
       "      <td>2.0</td>\n",
       "      <td>0.0</td>\n",
       "      <td>0.0</td>\n",
       "      <td>0.0</td>\n",
       "    </tr>\n",
       "    <tr>\n",
       "      <th>63431</th>\n",
       "      <td>Indonesia</td>\n",
       "      <td>2020-03-06</td>\n",
       "      <td>4.0</td>\n",
       "      <td>2.0</td>\n",
       "      <td>0.0</td>\n",
       "      <td>0.0</td>\n",
       "    </tr>\n",
       "    <tr>\n",
       "      <th>...</th>\n",
       "      <td>...</td>\n",
       "      <td>...</td>\n",
       "      <td>...</td>\n",
       "      <td>...</td>\n",
       "      <td>...</td>\n",
       "      <td>...</td>\n",
       "    </tr>\n",
       "    <tr>\n",
       "      <th>64084</th>\n",
       "      <td>Indonesia</td>\n",
       "      <td>2021-12-19</td>\n",
       "      <td>4260544.0</td>\n",
       "      <td>164.0</td>\n",
       "      <td>144002.0</td>\n",
       "      <td>4.0</td>\n",
       "    </tr>\n",
       "    <tr>\n",
       "      <th>64085</th>\n",
       "      <td>Indonesia</td>\n",
       "      <td>2021-12-20</td>\n",
       "      <td>4260677.0</td>\n",
       "      <td>133.0</td>\n",
       "      <td>144013.0</td>\n",
       "      <td>11.0</td>\n",
       "    </tr>\n",
       "    <tr>\n",
       "      <th>64086</th>\n",
       "      <td>Indonesia</td>\n",
       "      <td>2021-12-21</td>\n",
       "      <td>4260893.0</td>\n",
       "      <td>216.0</td>\n",
       "      <td>144024.0</td>\n",
       "      <td>11.0</td>\n",
       "    </tr>\n",
       "    <tr>\n",
       "      <th>64087</th>\n",
       "      <td>Indonesia</td>\n",
       "      <td>2021-12-22</td>\n",
       "      <td>4261072.0</td>\n",
       "      <td>179.0</td>\n",
       "      <td>144034.0</td>\n",
       "      <td>10.0</td>\n",
       "    </tr>\n",
       "    <tr>\n",
       "      <th>64088</th>\n",
       "      <td>Indonesia</td>\n",
       "      <td>2021-12-23</td>\n",
       "      <td>4261208.0</td>\n",
       "      <td>136.0</td>\n",
       "      <td>144042.0</td>\n",
       "      <td>8.0</td>\n",
       "    </tr>\n",
       "  </tbody>\n",
       "</table>\n",
       "<p>662 rows × 6 columns</p>\n",
       "</div>"
      ],
      "text/plain": [
       "        location       date  total_cases  new_cases  total_deaths  new_deaths\n",
       "63427  Indonesia 2020-03-02          2.0        2.0           0.0         0.0\n",
       "63428  Indonesia 2020-03-03          2.0        0.0           0.0         0.0\n",
       "63429  Indonesia 2020-03-04          2.0        0.0           0.0         0.0\n",
       "63430  Indonesia 2020-03-05          2.0        0.0           0.0         0.0\n",
       "63431  Indonesia 2020-03-06          4.0        2.0           0.0         0.0\n",
       "...          ...        ...          ...        ...           ...         ...\n",
       "64084  Indonesia 2021-12-19    4260544.0      164.0      144002.0         4.0\n",
       "64085  Indonesia 2021-12-20    4260677.0      133.0      144013.0        11.0\n",
       "64086  Indonesia 2021-12-21    4260893.0      216.0      144024.0        11.0\n",
       "64087  Indonesia 2021-12-22    4261072.0      179.0      144034.0        10.0\n",
       "64088  Indonesia 2021-12-23    4261208.0      136.0      144042.0         8.0\n",
       "\n",
       "[662 rows x 6 columns]"
      ]
     },
     "execution_count": 14,
     "metadata": {},
     "output_type": "execute_result"
    }
   ],
   "source": [
    "df_indo"
   ]
  },
  {
   "cell_type": "code",
   "execution_count": 15,
   "metadata": {},
   "outputs": [
    {
     "data": {
      "text/plain": [
       "[<matplotlib.lines.Line2D at 0x24acfe0d0d0>]"
      ]
     },
     "execution_count": 15,
     "metadata": {},
     "output_type": "execute_result"
    },
    {
     "data": {
      "image/png": "[encoded data removed]",
      "text/plain": [
       "<Figure size 1440x720 with 1 Axes>"
      ]
     },
     "metadata": {
      "needs_background": "light"
     },
     "output_type": "display_data"
    }
   ],
   "source": [
    "import matplotlib.pyplot as plt\n",
    "plt.figure(figsize=(20,10))\n",
    "plt.plot(df_indo['date'],df_indo['new_deaths'])"
   ]
  },
  {
   "cell_type": "markdown",
   "metadata": {},
   "source": [
    "# BOKEH"
   ]
  },
  {
   "cell_type": "code",
   "execution_count": 16,
   "metadata": {},
   "outputs": [],
   "source": [
    "#Membuat data untuk source awal plottingan\n",
    "df_select = df_asia[df_asia['location'] == 'Indonesia']\n",
    "df_select2 = df_asia[df_asia['location'] == 'Malaysia']"
   ]
  },
  {
   "cell_type": "code",
   "execution_count": 17,
   "metadata": {},
   "outputs": [],
   "source": [
    "#Membuat source data untuk plotting data\n",
    "source1 = ColumnDataSource(data={\n",
    "    'x' : df_select['date'],\n",
    "    'y' : df_select['new_cases'],\n",
    "    \n",
    "})\n",
    "source2 = ColumnDataSource(data={\n",
    "    'x' : df_select2['date'],\n",
    "    'y' : df_select2['new_cases'],\n",
    "})"
   ]
  },
  {
   "cell_type": "code",
   "execution_count": 18,
   "metadata": {},
   "outputs": [],
   "source": [
    "#Mengatur Figure gambar\n",
    "fig_gambar = figure(title='Data Covid-19 di Asia',\n",
    "                   plot_height=550, plot_width=1000,\n",
    "                   x_axis_type = 'datetime',\n",
    "                   x_axis_label='Date', y_axis_label='Jumlah Orang',\n",
    "                   tools=['pan', 'wheel_zoom', 'save', 'reset'])\n",
    "\n",
    "#Negara 1\n",
    "fig_gambar.line(x='x', y='y',\n",
    "              color='coral',\n",
    "              line_width=2,\n",
    "              source=source1,\n",
    "              legend_label ='Negara 1')\n",
    "\n",
    "#Negara 2\n",
    "fig_gambar.line(x='x', y='y',\n",
    "              color='cornflowerblue',\n",
    "              line_width=2,\n",
    "              source=source2,\n",
    "              legend_label = 'Negara 2')\n",
    "\n",
    "#Lokasi & Fitur Legend\n",
    "fig_gambar.legend.location = 'top_left'\n",
    "fig_gambar.legend.click_policy = 'mute'\n",
    "\n",
    "#Menambahkan Hover\n",
    "fig_gambar.add_tools(HoverTool(tooltips=[\n",
    "                                ('Date','@x{%F}'),\n",
    "                                ('new_cases', '@y')\n",
    "                               ],formatters={'@x': 'datetime'},\n",
    "                               mode='vline'))"
   ]
  },
  {
   "cell_type": "code",
   "execution_count": 19,
   "metadata": {},
   "outputs": [],
   "source": [
    "def update_plot(attr, old, new):\n",
    "    #Mengambil pilihan data Negara\n",
    "    pilihan1 = select1.value\n",
    "    pilihan3 = select3.value\n",
    "    \n",
    "    #Mengambil pilihan Negara\n",
    "    pilihan0 = select0.value\n",
    "    pilihan2 = select2.value\n",
    "    \n",
    "    #Membuat data berdasarkan pilihan negara\n",
    "    df_select = df_asia[df_asia['location'] == pilihan0]\n",
    "    df_select2 = df_asia[df_asia['location'] == pilihan2]\n",
    "    \n",
    "    #Membuat data baru berdasarkan pilihan\n",
    "    new_source1 = {\n",
    "        'x' : df_select['date'],\n",
    "        'y' : df_select[pilihan1]\n",
    "    }\n",
    "    new_source2 = {\n",
    "        'x' : df_select2['date'],\n",
    "        'y' : df_select2[pilihan3]\n",
    "    }\n",
    "    \n",
    "    #Memasukan data baru ke source plot\n",
    "    source1.data = new_source1\n",
    "    source2.data = new_source2"
   ]
  },
  {
   "cell_type": "code",
   "execution_count": 20,
   "metadata": {},
   "outputs": [],
   "source": [
    "def updateNegara_plot(attr, old, new):\n",
    "    #Mengambil pilihan data Negara\n",
    "    pilihan0 = select0.value\n",
    "    pilihan2 = select2.value\n",
    "\n",
    "    #Membuat data berdasarkan pilihan negara\n",
    "    df_select = df_asia[df_asia['location'] == pilihan0]\n",
    "    df_select2 = df_asia[df_asia['location'] == pilihan2]\n",
    "    \n",
    "    #Membuat data baru berdasarkan pilihan\n",
    "    new_source1 = {\n",
    "        'x' : df_select['date'],\n",
    "        'y' : df_select['new_cases']\n",
    "    }\n",
    "    new_source2 = {\n",
    "        'x' : df_select2['date'],\n",
    "        'y' : df_select2['new_cases']\n",
    "    }\n",
    "    \n",
    "    #Memasukan data baru ke source plot\n",
    "    source1.data = new_source1\n",
    "    source2.data = new_source2"
   ]
  },
  {
   "cell_type": "code",
   "execution_count": 21,
   "metadata": {},
   "outputs": [],
   "source": [
    "#Pilihan pada Select berupa List Seluruh Negara\n",
    "#Membuat pilihan Negara\n",
    "option0 = df_asia['location'].unique().tolist()\n",
    "\n",
    "#Membuat pilihan data Negara\n",
    "option1 = df_indo.columns.to_list()\n",
    "del option1[0]\n",
    "del option1[0]\n",
    "\n",
    "##Menu pilihan Negara 1\n",
    "#Select0 untuk memilih Negara 1\n",
    "select0 = Select(\n",
    "    options = option0,\n",
    "    title = 'Pilih Negara 1',\n",
    "    value = 'Indonesia'\n",
    ")\n",
    "\n",
    "#Select1 untuk memilih data Negara 1\n",
    "select1 = Select(\n",
    "    options = option1,\n",
    "    title = 'Pilih Data Negara 1',\n",
    "    value = 'new_cases'\n",
    ")\n",
    "\n",
    "##Menu pilihan Negara 2\n",
    "#Select2 untuk memilih Negara 2\n",
    "select2 = Select(\n",
    "    options = option0,\n",
    "    title = 'Pilih Negara 2',\n",
    "    value = 'Malaysia'\n",
    ")\n",
    "\n",
    "#Select3 untuk memilih data Negara 2\n",
    "select3 = Select(\n",
    "    options = option1,\n",
    "    title = 'Pilih Data Negara 2',\n",
    "    value = 'new_cases'\n",
    ") \n",
    "\n",
    "#Jika select dipilih\n",
    "select0.on_change('value', updateNegara_plot)\n",
    "select1.on_change('value', update_plot)\n",
    "select2.on_change('value', updateNegara_plot)\n",
    "select3.on_change('value', update_plot)"
   ]
  },
  {
   "cell_type": "code",
   "execution_count": 22,
   "metadata": {},
   "outputs": [
    {
     "name": "stderr",
     "output_type": "stream",
     "text": [
      "BokehDeprecationWarning: 'WidgetBox' is deprecated and will be removed in Bokeh 3.0, use 'bokeh.models.Column' instead\n"
     ]
    }
   ],
   "source": [
    "#Membuat layout gambar\n",
    "layout = row(widgetbox(select0,select1,select2,select3), fig_gambar)\n",
    "\n",
    "#Membuat Panel gambar\n",
    "panel1 = Panel(child=layout, title='Visualisasi Perbandingan Data Covid-19')\n",
    "\n",
    "#Membuat Tabel dengan Panel yang ada\n",
    "tabs = Tabs(tabs=[panel1,])\n",
    "\n",
    "curdoc().add_root(tabs)"
   ]
  }
 ],
 "metadata": {
  "kernelspec": {
   "display_name": "Python 3",
   "language": "python",
   "name": "python3"
  },
  "language_info": {
   "codemirror_mode": {
    "name": "ipython",
    "version": 3
   },
   "file_extension": ".py",
   "mimetype": "text/x-python",
   "name": "python",
   "nbconvert_exporter": "python",
   "pygments_lexer": "ipython3",
   "version": "3.8.3"
  }
 },
 "nbformat": 4,
 "nbformat_minor": 4
}
